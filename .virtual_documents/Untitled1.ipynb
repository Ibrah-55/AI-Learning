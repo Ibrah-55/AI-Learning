import pandas as pd

df = pd.read_csv("weather.csv")



df.shape


df.columns


df.index


df.index



df
